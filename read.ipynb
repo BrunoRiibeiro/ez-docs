{
 "cells": [
  {
   "cell_type": "code",
   "execution_count": 151,
   "metadata": {},
   "outputs": [
    {
     "name": "stderr",
     "output_type": "stream",
     "text": [
      "c:\\Users\\VAIO\\anaconda3\\envs\\mds\\lib\\site-packages\\tqdm\\auto.py:22: TqdmWarning: IProgress not found. Please update jupyter and ipywidgets. See https://ipywidgets.readthedocs.io/en/stable/user_install.html\n",
      "  from .autonotebook import tqdm as notebook_tqdm\n"
     ]
    }
   ],
   "source": [
    "import docx\n",
    "from docx.text.paragraph import Paragraph\n",
    "\n",
    "from docx2pdf import convert\n",
    "\n",
    "import re"
   ]
  },
  {
   "cell_type": "code",
   "execution_count": 152,
   "metadata": {},
   "outputs": [],
   "source": [
    "doc = docx.Document(\"documento.docx\")"
   ]
  },
  {
   "cell_type": "code",
   "execution_count": 153,
   "metadata": {},
   "outputs": [],
   "source": [
    "def loc_e_substitui(chave: str, valor:str, paragrafo: Paragraph):\n",
    "    regex = re.compile(f\"<<{chave}>>\")\n",
    "    is_match = 0\n",
    "    while True:\n",
    "        text = paragrafo.text\n",
    "        match = regex.search(text)\n",
    "        if not match:\n",
    "            break\n",
    "        is_match=1\n",
    "        runs = iter(paragrafo.runs)\n",
    "        start, end = match.start(), match.end()\n",
    "\n",
    "        for run in runs:\n",
    "            run_len = len(run.text)\n",
    "            if start < run_len:\n",
    "                break\n",
    "            start, end = start - run_len, end - run_len\n",
    "\n",
    "        run_text = run.text\n",
    "        run_len = len(run_text)\n",
    "        run.text = \"%s%s%s\" % (run_text[:start], valor, run_text[end:])\n",
    "        end -= run_len\n",
    "\n",
    "        for run in runs:\n",
    "            if end <= 0:\n",
    "                break\n",
    "            run_text = run.text\n",
    "            run_len = len(run_text)\n",
    "            run.text = run_text[end:]\n",
    "            end -= run_len\n",
    "\n",
    "    return {\"paragraph\": paragrafo,\"is_match\": is_match}\n",
    "        "
   ]
  },
  {
   "cell_type": "code",
   "execution_count": 154,
   "metadata": {},
   "outputs": [],
   "source": [
    "chave_valor = {\n",
    "    \"NOME\": \"Rafael\",\n",
    "    \"DISCIPLINA\": \"Sistema de bancos de dados 1\",\n",
    "    \"DATA\": \"23 de Novembro de 2022\",\n",
    "    \"CPF\": \"074.167.341-00\",\n",
    "    \"MATRICULA\": \"200026488\"\n",
    "}"
   ]
  },
  {
   "cell_type": "code",
   "execution_count": 155,
   "metadata": {},
   "outputs": [],
   "source": [
    "for chave in chave_valor.keys():\n",
    "    for paragraph in doc.paragraphs:\n",
    "        loc_e_substitui(chave, chave_valor[chave], paragraph)"
   ]
  },
  {
   "cell_type": "code",
   "execution_count": 156,
   "metadata": {},
   "outputs": [],
   "source": [
    "doc.save(\"result.docx\")"
   ]
  },
  {
   "cell_type": "code",
   "execution_count": 157,
   "metadata": {},
   "outputs": [
    {
     "name": "stderr",
     "output_type": "stream",
     "text": [
      "100%|██████████| 1/1 [00:02<00:00,  2.82s/it]\n"
     ]
    }
   ],
   "source": [
    "convert(\"result.docx\", \"result.pdf\")"
   ]
  },
  {
   "cell_type": "code",
   "execution_count": null,
   "metadata": {},
   "outputs": [],
   "source": []
  }
 ],
 "metadata": {
  "kernelspec": {
   "display_name": "Python 3.10.8 ('mds')",
   "language": "python",
   "name": "python3"
  },
  "language_info": {
   "codemirror_mode": {
    "name": "ipython",
    "version": 3
   },
   "file_extension": ".py",
   "mimetype": "text/x-python",
   "name": "python",
   "nbconvert_exporter": "python",
   "pygments_lexer": "ipython3",
   "version": "3.10.8"
  },
  "orig_nbformat": 4,
  "vscode": {
   "interpreter": {
    "hash": "8a702ad902ce1be042f72f7d14588ee18255710c8c5660bba6857d28ac761fd2"
   }
  }
 },
 "nbformat": 4,
 "nbformat_minor": 2
}
