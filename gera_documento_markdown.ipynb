{
 "cells": [
  {
   "cell_type": "code",
   "execution_count": 8,
   "metadata": {},
   "outputs": [],
   "source": [
    "import re\n",
    "import os"
   ]
  },
  {
   "cell_type": "code",
   "execution_count": 41,
   "metadata": {},
   "outputs": [],
   "source": [
    "with open(\"template.md\", \"w+\", encoding=\"utf-8\") as input_file:\n",
    "    text = input_file.read()\n",
    "    input_file.write(\"aaaaa\")"
   ]
  },
  {
   "cell_type": "code",
   "execution_count": 35,
   "metadata": {},
   "outputs": [],
   "source": [
    "def loc_sub(text, chave, valor):\n",
    "    pattern = f\"<<{chave}>>\"\n",
    "    text = re.sub(pattern, valor, text)\n",
    "    return text"
   ]
  },
  {
   "cell_type": "code",
   "execution_count": 36,
   "metadata": {},
   "outputs": [
    {
     "data": {
      "text/plain": [
       "'# Olá pessoal\\n\\n## Fiquei sabendo que o Vascão é o gigante\\n\\nMeu nome é <<NOME>>, declaro que estou ciente, a partir desta situação, de que o Vascão é gigante, declaro ciência na universidade de que o nosso timão é gigante.\\n\\n---\\n\\nBrasília, <<DATA>>\\n\\n<<CPF>> // <<MATRICULA>>'"
      ]
     },
     "execution_count": 36,
     "metadata": {},
     "output_type": "execute_result"
    }
   ],
   "source": [
    "text = loc_sub(text, \"TIME\", \"Vascão\")\n",
    "text"
   ]
  },
  {
   "cell_type": "code",
   "execution_count": 7,
   "metadata": {},
   "outputs": [
    {
     "data": {
      "text/plain": [
       "0"
      ]
     },
     "execution_count": 7,
     "metadata": {},
     "output_type": "execute_result"
    }
   ],
   "source": [
    "os.system(\"mdpdf -o template.pdf template.md\")"
   ]
  },
  {
   "cell_type": "code",
   "execution_count": 13,
   "metadata": {},
   "outputs": [
    {
     "data": {
      "text/plain": [
       "'<<TIME>>'"
      ]
     },
     "execution_count": 13,
     "metadata": {},
     "output_type": "execute_result"
    }
   ],
   "source": []
  },
  {
   "cell_type": "code",
   "execution_count": null,
   "metadata": {},
   "outputs": [],
   "source": []
  }
 ],
 "metadata": {
  "kernelspec": {
   "display_name": "Python 3.10.8 ('mds')",
   "language": "python",
   "name": "python3"
  },
  "language_info": {
   "codemirror_mode": {
    "name": "ipython",
    "version": 3
   },
   "file_extension": ".py",
   "mimetype": "text/x-python",
   "name": "python",
   "nbconvert_exporter": "python",
   "pygments_lexer": "ipython3",
   "version": "3.10.8"
  },
  "orig_nbformat": 4,
  "vscode": {
   "interpreter": {
    "hash": "8a702ad902ce1be042f72f7d14588ee18255710c8c5660bba6857d28ac761fd2"
   }
  }
 },
 "nbformat": 4,
 "nbformat_minor": 2
}
